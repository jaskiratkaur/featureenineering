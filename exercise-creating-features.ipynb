{
 "cells": [
  {
   "cell_type": "markdown",
   "id": "d5b5fd18",
   "metadata": {
    "papermill": {
     "duration": 0.023097,
     "end_time": "2022-05-09T16:30:21.911927",
     "exception": false,
     "start_time": "2022-05-09T16:30:21.888830",
     "status": "completed"
    },
    "tags": []
   },
   "source": [
    "**This notebook is an exercise in the [Feature Engineering](https://www.kaggle.com/learn/feature-engineering) course.  You can reference the tutorial at [this link](https://www.kaggle.com/ryanholbrook/creating-features).**\n",
    "\n",
    "---\n"
   ]
  },
  {
   "cell_type": "markdown",
   "id": "ea806a90",
   "metadata": {
    "papermill": {
     "duration": 0.020297,
     "end_time": "2022-05-09T16:30:21.954675",
     "exception": false,
     "start_time": "2022-05-09T16:30:21.934378",
     "status": "completed"
    },
    "tags": []
   },
   "source": [
    "# Introduction #\n",
    "\n",
    "In this exercise you'll start developing the features you identified in Exercise 2 as having the most potential. As you work through this exercise, you might take a moment to look at the data documentation again and consider whether the features we're creating make sense from a real-world perspective, and whether there are any useful combinations that stand out to you.\n",
    "\n",
    "Run this cell to set everything up!"
   ]
  },
  {
   "cell_type": "code",
   "execution_count": 1,
   "id": "c97bb964",
   "metadata": {
    "execution": {
     "iopub.execute_input": "2022-05-09T16:30:22.000974Z",
     "iopub.status.busy": "2022-05-09T16:30:22.000062Z",
     "iopub.status.idle": "2022-05-09T16:30:23.443338Z",
     "shell.execute_reply": "2022-05-09T16:30:23.442264Z"
    },
    "papermill": {
     "duration": 1.469937,
     "end_time": "2022-05-09T16:30:23.446715",
     "exception": false,
     "start_time": "2022-05-09T16:30:21.976778",
     "status": "completed"
    },
    "tags": []
   },
   "outputs": [],
   "source": [
    "# Setup feedback system\n",
    "from learntools.core import binder\n",
    "binder.bind(globals())\n",
    "from learntools.feature_engineering_new.ex3 import *\n",
    "\n",
    "import numpy as np\n",
    "import pandas as pd\n",
    "from sklearn.model_selection import cross_val_score\n",
    "from xgboost import XGBRegressor\n",
    "\n",
    "\n",
    "def score_dataset(X, y, model=XGBRegressor()):\n",
    "    # Label encoding for categoricals\n",
    "    for colname in X.select_dtypes([\"category\", \"object\"]):\n",
    "        X[colname], _ = X[colname].factorize()\n",
    "    # Metric for Housing competition is RMSLE (Root Mean Squared Log Error)\n",
    "    score = cross_val_score(\n",
    "        model, X, y, cv=5, scoring=\"neg_mean_squared_log_error\",\n",
    "    )\n",
    "    score = -1 * score.mean()\n",
    "    score = np.sqrt(score)\n",
    "    return score\n",
    "\n",
    "\n",
    "# Prepare data\n",
    "df = pd.read_csv(\"../input/fe-course-data/ames.csv\")\n",
    "X = df.copy()\n",
    "y = X.pop(\"SalePrice\")"
   ]
  },
  {
   "cell_type": "markdown",
   "id": "1dc663b4",
   "metadata": {
    "papermill": {
     "duration": 0.020244,
     "end_time": "2022-05-09T16:30:23.489235",
     "exception": false,
     "start_time": "2022-05-09T16:30:23.468991",
     "status": "completed"
    },
    "tags": []
   },
   "source": [
    "-------------------------------------------------------------------------------\n",
    "\n",
    "Let's start with a few mathematical combinations. We'll focus on features describing areas -- having the same units (square-feet) makes it easy to combine them in sensible ways. Since we're using XGBoost (a tree-based model), we'll focus on ratios and sums.\n",
    "\n",
    "# 1) Create Mathematical Transforms\n",
    "\n",
    "Create the following features:\n",
    "\n",
    "- `LivLotRatio`: the ratio of `GrLivArea` to `LotArea`\n",
    "- `Spaciousness`: the sum of `FirstFlrSF` and `SecondFlrSF` divided by `TotRmsAbvGrd`\n",
    "- `TotalOutsideSF`: the sum of `WoodDeckSF`, `OpenPorchSF`, `EnclosedPorch`, `Threeseasonporch`, and `ScreenPorch`"
   ]
  },
  {
   "cell_type": "code",
   "execution_count": 2,
   "id": "25ca5c93",
   "metadata": {
    "execution": {
     "iopub.execute_input": "2022-05-09T16:30:23.533131Z",
     "iopub.status.busy": "2022-05-09T16:30:23.532440Z",
     "iopub.status.idle": "2022-05-09T16:30:23.558377Z",
     "shell.execute_reply": "2022-05-09T16:30:23.557556Z"
    },
    "lines_to_next_cell": 0,
    "papermill": {
     "duration": 0.050249,
     "end_time": "2022-05-09T16:30:23.560423",
     "exception": false,
     "start_time": "2022-05-09T16:30:23.510174",
     "status": "completed"
    },
    "tags": []
   },
   "outputs": [
    {
     "data": {
      "application/javascript": [
       "parent.postMessage({\"jupyterEvent\": \"custom.exercise_interaction\", \"data\": {\"outcomeType\": 1, \"valueTowardsCompletion\": 0.2, \"interactionType\": 1, \"questionType\": 2, \"questionId\": \"1_Q1\", \"learnToolsVersion\": \"0.3.4\", \"failureMessage\": \"\", \"exceptionClass\": \"\", \"trace\": \"\"}}, \"*\")"
      ],
      "text/plain": [
       "<IPython.core.display.Javascript object>"
      ]
     },
     "metadata": {},
     "output_type": "display_data"
    },
    {
     "data": {
      "text/markdown": [
       "<span style=\"color:#33cc33\">Correct</span>"
      ],
      "text/plain": [
       "Correct"
      ]
     },
     "metadata": {},
     "output_type": "display_data"
    }
   ],
   "source": [
    "# YOUR CODE HERE\n",
    "X_1 = pd.DataFrame()  # dataframe to hold new features\n",
    "\n",
    "X_1[\"LivLotRatio\"] = df.GrLivArea / df.LotArea\n",
    "X_1[\"Spaciousness\"] =  (df.FirstFlrSF + df.SecondFlrSF) / df.TotRmsAbvGrd\n",
    "X_1[\"TotalOutsideSF\"] = df.WoodDeckSF + df.OpenPorchSF + df.EnclosedPorch + df.Threeseasonporch + df.ScreenPorch\n",
    "\n",
    "\n",
    "# Check your answer\n",
    "q_1.check()"
   ]
  },
  {
   "cell_type": "code",
   "execution_count": 3,
   "id": "1376861b",
   "metadata": {
    "execution": {
     "iopub.execute_input": "2022-05-09T16:30:23.606263Z",
     "iopub.status.busy": "2022-05-09T16:30:23.605878Z",
     "iopub.status.idle": "2022-05-09T16:30:23.609669Z",
     "shell.execute_reply": "2022-05-09T16:30:23.608994Z"
    },
    "lines_to_next_cell": 0,
    "papermill": {
     "duration": 0.029205,
     "end_time": "2022-05-09T16:30:23.611788",
     "exception": false,
     "start_time": "2022-05-09T16:30:23.582583",
     "status": "completed"
    },
    "tags": []
   },
   "outputs": [],
   "source": [
    "# Lines below will give you a hint or solution code\n",
    "#q_1.hint()\n",
    "#q_1.solution()"
   ]
  },
  {
   "cell_type": "markdown",
   "id": "f99a6e05",
   "metadata": {
    "papermill": {
     "duration": 0.021338,
     "end_time": "2022-05-09T16:30:23.655110",
     "exception": false,
     "start_time": "2022-05-09T16:30:23.633772",
     "status": "completed"
    },
    "tags": []
   },
   "source": [
    "-------------------------------------------------------------------------------\n",
    "\n",
    "If you've discovered an interaction effect between a numeric feature and a categorical feature, you might want to model it explicitly using a one-hot encoding, like so:\n",
    "\n",
    "```\n",
    "# One-hot encode Categorical feature, adding a column prefix \"Cat\"\n",
    "X_new = pd.get_dummies(df.Categorical, prefix=\"Cat\")\n",
    "\n",
    "# Multiply row-by-row\n",
    "X_new = X_new.mul(df.Continuous, axis=0)\n",
    "\n",
    "# Join the new features to the feature set\n",
    "X = X.join(X_new)\n",
    "```\n",
    "\n",
    "# 2) Interaction with a Categorical\n",
    "\n",
    "We discovered an interaction between `BldgType` and `GrLivArea` in Exercise 2. Now create their interaction features."
   ]
  },
  {
   "cell_type": "code",
   "execution_count": 4,
   "id": "6c52b26e",
   "metadata": {
    "execution": {
     "iopub.execute_input": "2022-05-09T16:30:23.701060Z",
     "iopub.status.busy": "2022-05-09T16:30:23.700419Z",
     "iopub.status.idle": "2022-05-09T16:30:23.713483Z",
     "shell.execute_reply": "2022-05-09T16:30:23.712867Z"
    },
    "lines_to_next_cell": 0,
    "papermill": {
     "duration": 0.037655,
     "end_time": "2022-05-09T16:30:23.715257",
     "exception": false,
     "start_time": "2022-05-09T16:30:23.677602",
     "status": "completed"
    },
    "tags": []
   },
   "outputs": [
    {
     "data": {
      "application/javascript": [
       "parent.postMessage({\"jupyterEvent\": \"custom.exercise_interaction\", \"data\": {\"outcomeType\": 1, \"valueTowardsCompletion\": 0.2, \"interactionType\": 1, \"questionType\": 2, \"questionId\": \"2_Q2\", \"learnToolsVersion\": \"0.3.4\", \"failureMessage\": \"\", \"exceptionClass\": \"\", \"trace\": \"\"}}, \"*\")"
      ],
      "text/plain": [
       "<IPython.core.display.Javascript object>"
      ]
     },
     "metadata": {},
     "output_type": "display_data"
    },
    {
     "data": {
      "text/markdown": [
       "<span style=\"color:#33cc33\">Correct</span>"
      ],
      "text/plain": [
       "Correct"
      ]
     },
     "metadata": {},
     "output_type": "display_data"
    }
   ],
   "source": [
    "# YOUR CODE HERE\n",
    "# One-hot encode BldgType. Use `prefix=\"Bldg\"` in `get_dummies`\n",
    "X_2 = pd.get_dummies(df.BldgType, prefix=\"Bldg\")\n",
    "# Multiply\n",
    "X_2 = X_2.mul(df.GrLivArea, axis=0)\n",
    "\n",
    "\n",
    "# Check your answer\n",
    "q_2.check()"
   ]
  },
  {
   "cell_type": "code",
   "execution_count": 5,
   "id": "0358e59b",
   "metadata": {
    "execution": {
     "iopub.execute_input": "2022-05-09T16:30:23.765994Z",
     "iopub.status.busy": "2022-05-09T16:30:23.765369Z",
     "iopub.status.idle": "2022-05-09T16:30:23.768636Z",
     "shell.execute_reply": "2022-05-09T16:30:23.768100Z"
    },
    "lines_to_next_cell": 0,
    "papermill": {
     "duration": 0.032292,
     "end_time": "2022-05-09T16:30:23.770572",
     "exception": false,
     "start_time": "2022-05-09T16:30:23.738280",
     "status": "completed"
    },
    "tags": []
   },
   "outputs": [],
   "source": [
    "# Lines below will give you a hint or solution code\n",
    "#q_2.hint()\n",
    "#q_2.solution()"
   ]
  },
  {
   "cell_type": "markdown",
   "id": "48db1eca",
   "metadata": {
    "lines_to_next_cell": 0,
    "papermill": {
     "duration": 0.022649,
     "end_time": "2022-05-09T16:30:23.816991",
     "exception": false,
     "start_time": "2022-05-09T16:30:23.794342",
     "status": "completed"
    },
    "tags": []
   },
   "source": [
    "# 3) Count Feature\n",
    "\n",
    "Let's try creating a feature that describes how many kinds of outdoor areas a dwelling has. Create a feature `PorchTypes` that counts how many of the following are greater than 0.0:\n",
    "\n",
    "```\n",
    "WoodDeckSF\n",
    "OpenPorchSF\n",
    "EnclosedPorch\n",
    "Threeseasonporch\n",
    "ScreenPorch\n",
    "```"
   ]
  },
  {
   "cell_type": "code",
   "execution_count": 6,
   "id": "846115b9",
   "metadata": {
    "execution": {
     "iopub.execute_input": "2022-05-09T16:30:23.864741Z",
     "iopub.status.busy": "2022-05-09T16:30:23.864368Z",
     "iopub.status.idle": "2022-05-09T16:30:23.882108Z",
     "shell.execute_reply": "2022-05-09T16:30:23.881531Z"
    },
    "lines_to_next_cell": 0,
    "papermill": {
     "duration": 0.044031,
     "end_time": "2022-05-09T16:30:23.883884",
     "exception": false,
     "start_time": "2022-05-09T16:30:23.839853",
     "status": "completed"
    },
    "tags": []
   },
   "outputs": [
    {
     "data": {
      "application/javascript": [
       "parent.postMessage({\"jupyterEvent\": \"custom.exercise_interaction\", \"data\": {\"outcomeType\": 1, \"valueTowardsCompletion\": 0.2, \"interactionType\": 1, \"questionType\": 2, \"questionId\": \"3_Q3\", \"learnToolsVersion\": \"0.3.4\", \"failureMessage\": \"\", \"exceptionClass\": \"\", \"trace\": \"\"}}, \"*\")"
      ],
      "text/plain": [
       "<IPython.core.display.Javascript object>"
      ]
     },
     "metadata": {},
     "output_type": "display_data"
    },
    {
     "data": {
      "text/markdown": [
       "<span style=\"color:#33cc33\">Correct</span>"
      ],
      "text/plain": [
       "Correct"
      ]
     },
     "metadata": {},
     "output_type": "display_data"
    }
   ],
   "source": [
    "X_3 = pd.DataFrame()\n",
    "\n",
    "# YOUR CODE HERE\n",
    "X_3[\"PorchTypes\"] = df[[\n",
    "    \"WoodDeckSF\",\n",
    "    \"OpenPorchSF\",\n",
    "    \"EnclosedPorch\",\n",
    "    \"Threeseasonporch\",\n",
    "    \"ScreenPorch\",\n",
    "]].gt(0.0).sum(axis=1)\n",
    "\n",
    "\n",
    "# Check your answer\n",
    "q_3.check()"
   ]
  },
  {
   "cell_type": "code",
   "execution_count": 7,
   "id": "dcb527b5",
   "metadata": {
    "execution": {
     "iopub.execute_input": "2022-05-09T16:30:23.935767Z",
     "iopub.status.busy": "2022-05-09T16:30:23.935135Z",
     "iopub.status.idle": "2022-05-09T16:30:23.938471Z",
     "shell.execute_reply": "2022-05-09T16:30:23.937899Z"
    },
    "lines_to_next_cell": 0,
    "papermill": {
     "duration": 0.0316,
     "end_time": "2022-05-09T16:30:23.940362",
     "exception": false,
     "start_time": "2022-05-09T16:30:23.908762",
     "status": "completed"
    },
    "tags": []
   },
   "outputs": [],
   "source": [
    "# Lines below will give you a hint or solution code\n",
    "#q_3.hint()\n",
    "#q_3.solution()"
   ]
  },
  {
   "cell_type": "markdown",
   "id": "b9819b86",
   "metadata": {
    "papermill": {
     "duration": 0.023782,
     "end_time": "2022-05-09T16:30:23.988851",
     "exception": false,
     "start_time": "2022-05-09T16:30:23.965069",
     "status": "completed"
    },
    "tags": []
   },
   "source": [
    "# 4) Break Down a Categorical Feature\n",
    "\n",
    "`MSSubClass` describes the type of a dwelling:"
   ]
  },
  {
   "cell_type": "code",
   "execution_count": 8,
   "id": "7293003d",
   "metadata": {
    "execution": {
     "iopub.execute_input": "2022-05-09T16:30:24.040836Z",
     "iopub.status.busy": "2022-05-09T16:30:24.039998Z",
     "iopub.status.idle": "2022-05-09T16:30:24.047146Z",
     "shell.execute_reply": "2022-05-09T16:30:24.046415Z"
    },
    "papermill": {
     "duration": 0.035442,
     "end_time": "2022-05-09T16:30:24.049103",
     "exception": false,
     "start_time": "2022-05-09T16:30:24.013661",
     "status": "completed"
    },
    "tags": []
   },
   "outputs": [
    {
     "data": {
      "text/plain": [
       "array(['One_Story_1946_and_Newer_All_Styles', 'Two_Story_1946_and_Newer',\n",
       "       'One_Story_PUD_1946_and_Newer',\n",
       "       'One_and_Half_Story_Finished_All_Ages', 'Split_Foyer',\n",
       "       'Two_Story_PUD_1946_and_Newer', 'Split_or_Multilevel',\n",
       "       'One_Story_1945_and_Older', 'Duplex_All_Styles_and_Ages',\n",
       "       'Two_Family_conversion_All_Styles_and_Ages',\n",
       "       'One_and_Half_Story_Unfinished_All_Ages',\n",
       "       'Two_Story_1945_and_Older', 'Two_and_Half_Story_All_Ages',\n",
       "       'One_Story_with_Finished_Attic_All_Ages',\n",
       "       'PUD_Multilevel_Split_Level_Foyer',\n",
       "       'One_and_Half_Story_PUD_All_Ages'], dtype=object)"
      ]
     },
     "execution_count": 8,
     "metadata": {},
     "output_type": "execute_result"
    }
   ],
   "source": [
    "df.MSSubClass.unique()"
   ]
  },
  {
   "cell_type": "markdown",
   "id": "9309f163",
   "metadata": {
    "papermill": {
     "duration": 0.023988,
     "end_time": "2022-05-09T16:30:24.097643",
     "exception": false,
     "start_time": "2022-05-09T16:30:24.073655",
     "status": "completed"
    },
    "tags": []
   },
   "source": [
    "You can see that there is a more general categorization described (roughly) by the first word of each category. Create a feature containing only these first words by splitting `MSSubClass` at the first underscore `_`. (Hint: In the `split` method use an argument `n=1`.)"
   ]
  },
  {
   "cell_type": "code",
   "execution_count": 9,
   "id": "b0797221",
   "metadata": {
    "execution": {
     "iopub.execute_input": "2022-05-09T16:30:24.148464Z",
     "iopub.status.busy": "2022-05-09T16:30:24.147811Z",
     "iopub.status.idle": "2022-05-09T16:30:24.173777Z",
     "shell.execute_reply": "2022-05-09T16:30:24.173182Z"
    },
    "lines_to_next_cell": 0,
    "papermill": {
     "duration": 0.0537,
     "end_time": "2022-05-09T16:30:24.175829",
     "exception": false,
     "start_time": "2022-05-09T16:30:24.122129",
     "status": "completed"
    },
    "tags": []
   },
   "outputs": [
    {
     "data": {
      "application/javascript": [
       "parent.postMessage({\"jupyterEvent\": \"custom.exercise_interaction\", \"data\": {\"outcomeType\": 1, \"valueTowardsCompletion\": 0.2, \"interactionType\": 1, \"questionType\": 2, \"questionId\": \"4_Q4\", \"learnToolsVersion\": \"0.3.4\", \"failureMessage\": \"\", \"exceptionClass\": \"\", \"trace\": \"\"}}, \"*\")"
      ],
      "text/plain": [
       "<IPython.core.display.Javascript object>"
      ]
     },
     "metadata": {},
     "output_type": "display_data"
    },
    {
     "data": {
      "text/markdown": [
       "<span style=\"color:#33cc33\">Correct</span>"
      ],
      "text/plain": [
       "Correct"
      ]
     },
     "metadata": {},
     "output_type": "display_data"
    }
   ],
   "source": [
    "X_4 = pd.DataFrame()\n",
    "\n",
    "# YOUR CODE HERE\n",
    "X_4[\"MSClass\"] = df.MSSubClass.str.split(\"_\", n=1, expand=True)[0]\n",
    "\n",
    "# Check your answer\n",
    "q_4.check()"
   ]
  },
  {
   "cell_type": "code",
   "execution_count": 10,
   "id": "687186de",
   "metadata": {
    "execution": {
     "iopub.execute_input": "2022-05-09T16:30:24.230893Z",
     "iopub.status.busy": "2022-05-09T16:30:24.230295Z",
     "iopub.status.idle": "2022-05-09T16:30:24.233485Z",
     "shell.execute_reply": "2022-05-09T16:30:24.232968Z"
    },
    "lines_to_next_cell": 0,
    "papermill": {
     "duration": 0.032802,
     "end_time": "2022-05-09T16:30:24.235368",
     "exception": false,
     "start_time": "2022-05-09T16:30:24.202566",
     "status": "completed"
    },
    "tags": []
   },
   "outputs": [],
   "source": [
    "# Lines below will give you a hint or solution code\n",
    "#q_4.hint()\n",
    "#q_4.solution()"
   ]
  },
  {
   "cell_type": "markdown",
   "id": "0d67b79a",
   "metadata": {
    "papermill": {
     "duration": 0.025207,
     "end_time": "2022-05-09T16:30:24.286700",
     "exception": false,
     "start_time": "2022-05-09T16:30:24.261493",
     "status": "completed"
    },
    "tags": []
   },
   "source": [
    "# 5) Use a Grouped Transform\n",
    "\n",
    "The value of a home often depends on how it compares to typical homes in its neighborhood. Create a feature `MedNhbdArea` that describes the *median* of `GrLivArea` grouped on `Neighborhood`."
   ]
  },
  {
   "cell_type": "code",
   "execution_count": 11,
   "id": "2ed7895c",
   "metadata": {
    "execution": {
     "iopub.execute_input": "2022-05-09T16:30:24.340718Z",
     "iopub.status.busy": "2022-05-09T16:30:24.340068Z",
     "iopub.status.idle": "2022-05-09T16:30:24.358253Z",
     "shell.execute_reply": "2022-05-09T16:30:24.357574Z"
    },
    "lines_to_next_cell": 0,
    "papermill": {
     "duration": 0.0473,
     "end_time": "2022-05-09T16:30:24.360196",
     "exception": false,
     "start_time": "2022-05-09T16:30:24.312896",
     "status": "completed"
    },
    "tags": []
   },
   "outputs": [
    {
     "data": {
      "application/javascript": [
       "parent.postMessage({\"jupyterEvent\": \"custom.exercise_interaction\", \"data\": {\"outcomeType\": 1, \"valueTowardsCompletion\": 0.2, \"interactionType\": 1, \"questionType\": 2, \"questionId\": \"5_Q5\", \"learnToolsVersion\": \"0.3.4\", \"failureMessage\": \"\", \"exceptionClass\": \"\", \"trace\": \"\"}}, \"*\")"
      ],
      "text/plain": [
       "<IPython.core.display.Javascript object>"
      ]
     },
     "metadata": {},
     "output_type": "display_data"
    },
    {
     "data": {
      "text/markdown": [
       "<span style=\"color:#33cc33\">Correct</span>"
      ],
      "text/plain": [
       "Correct"
      ]
     },
     "metadata": {},
     "output_type": "display_data"
    }
   ],
   "source": [
    "X_5 = pd.DataFrame()\n",
    "\n",
    "# YOUR CODE HERE\n",
    "X_5[\"MedNhbdArea\"] = df.groupby(\"Neighborhood\")[\"GrLivArea\"].transform(\"median\")\n",
    "\n",
    "# Check your answer\n",
    "q_5.check()"
   ]
  },
  {
   "cell_type": "code",
   "execution_count": 12,
   "id": "0f9a9c0a",
   "metadata": {
    "execution": {
     "iopub.execute_input": "2022-05-09T16:30:24.417377Z",
     "iopub.status.busy": "2022-05-09T16:30:24.416749Z",
     "iopub.status.idle": "2022-05-09T16:30:24.419954Z",
     "shell.execute_reply": "2022-05-09T16:30:24.419402Z"
    },
    "lines_to_next_cell": 0,
    "papermill": {
     "duration": 0.0338,
     "end_time": "2022-05-09T16:30:24.421726",
     "exception": false,
     "start_time": "2022-05-09T16:30:24.387926",
     "status": "completed"
    },
    "tags": []
   },
   "outputs": [],
   "source": [
    "# Lines below will give you a hint or solution code\n",
    "#q_5.hint()\n",
    "#q_5.solution()"
   ]
  },
  {
   "cell_type": "markdown",
   "id": "4fe21028",
   "metadata": {
    "papermill": {
     "duration": 0.026589,
     "end_time": "2022-05-09T16:30:24.475919",
     "exception": false,
     "start_time": "2022-05-09T16:30:24.449330",
     "status": "completed"
    },
    "tags": []
   },
   "source": [
    "Now you've made your first new feature set! If you like, you can run the cell below to score the model with all of your new features added:"
   ]
  },
  {
   "cell_type": "code",
   "execution_count": 13,
   "id": "a9941607",
   "metadata": {
    "execution": {
     "iopub.execute_input": "2022-05-09T16:30:24.531738Z",
     "iopub.status.busy": "2022-05-09T16:30:24.531065Z",
     "iopub.status.idle": "2022-05-09T16:30:29.174821Z",
     "shell.execute_reply": "2022-05-09T16:30:29.173992Z"
    },
    "papermill": {
     "duration": 4.674668,
     "end_time": "2022-05-09T16:30:29.177368",
     "exception": false,
     "start_time": "2022-05-09T16:30:24.502700",
     "status": "completed"
    },
    "tags": []
   },
   "outputs": [
    {
     "data": {
      "text/plain": [
       "0.13847331710099203"
      ]
     },
     "execution_count": 13,
     "metadata": {},
     "output_type": "execute_result"
    }
   ],
   "source": [
    "X_new = X.join([X_1, X_2, X_3, X_4, X_5])\n",
    "score_dataset(X_new, y)"
   ]
  },
  {
   "cell_type": "markdown",
   "id": "7d8a9fe3",
   "metadata": {
    "papermill": {
     "duration": 0.027459,
     "end_time": "2022-05-09T16:30:29.233851",
     "exception": false,
     "start_time": "2022-05-09T16:30:29.206392",
     "status": "completed"
    },
    "tags": []
   },
   "source": [
    "# Keep Going #\n",
    "\n",
    "[**Untangle spatial relationships**](https://www.kaggle.com/ryanholbrook/clustering-with-k-means) by adding cluster labels to your dataset."
   ]
  },
  {
   "cell_type": "markdown",
   "id": "7c58ca50",
   "metadata": {
    "papermill": {
     "duration": 0.027413,
     "end_time": "2022-05-09T16:30:29.289153",
     "exception": false,
     "start_time": "2022-05-09T16:30:29.261740",
     "status": "completed"
    },
    "tags": []
   },
   "source": [
    "---\n",
    "\n",
    "\n",
    "\n",
    "\n",
    "*Have questions or comments? Visit the [course discussion forum](https://www.kaggle.com/learn/feature-engineering/discussion) to chat with other learners.*"
   ]
  }
 ],
 "metadata": {
  "kernelspec": {
   "display_name": "Python 3",
   "language": "python",
   "name": "python3"
  },
  "language_info": {
   "codemirror_mode": {
    "name": "ipython",
    "version": 3
   },
   "file_extension": ".py",
   "mimetype": "text/x-python",
   "name": "python",
   "nbconvert_exporter": "python",
   "pygments_lexer": "ipython3",
   "version": "3.7.12"
  },
  "papermill": {
   "default_parameters": {},
   "duration": 19.059301,
   "end_time": "2022-05-09T16:30:30.341117",
   "environment_variables": {},
   "exception": null,
   "input_path": "__notebook__.ipynb",
   "output_path": "__notebook__.ipynb",
   "parameters": {},
   "start_time": "2022-05-09T16:30:11.281816",
   "version": "2.3.4"
  }
 },
 "nbformat": 4,
 "nbformat_minor": 5
}
